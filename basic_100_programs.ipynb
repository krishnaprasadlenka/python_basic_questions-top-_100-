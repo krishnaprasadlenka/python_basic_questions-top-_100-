{
  "nbformat": 4,
  "nbformat_minor": 0,
  "metadata": {
    "colab": {
      "provenance": [],
      "authorship_tag": "ABX9TyMRpJvboAkLyzhLi/hNKTD7",
      "include_colab_link": true
    },
    "kernelspec": {
      "name": "python3",
      "display_name": "Python 3"
    },
    "language_info": {
      "name": "python"
    }
  },
  "cells": [
    {
      "cell_type": "markdown",
      "metadata": {
        "id": "view-in-github",
        "colab_type": "text"
      },
      "source": [
        "<a href=\"https://colab.research.google.com/github/krishnaprasadlenka/python_basic_questions-top-_100-/blob/main/basic_100_programs.ipynb\" target=\"_parent\"><img src=\"https://colab.research.google.com/assets/colab-badge.svg\" alt=\"Open In Colab\"/></a>"
      ]
    },
    {
      "cell_type": "markdown",
      "source": [
        "1st program:-PRINT \"HELLO WORLD\""
      ],
      "metadata": {
        "id": "-ivzjNRFm05I"
      }
    },
    {
      "cell_type": "code",
      "execution_count": null,
      "metadata": {
        "colab": {
          "base_uri": "https://localhost:8080/"
        },
        "id": "l9K0a5mQZR2h",
        "outputId": "79d33715-77ad-48a1-ee50-c473592fb079"
      },
      "outputs": [
        {
          "output_type": "stream",
          "name": "stdout",
          "text": [
            "hello world\n"
          ]
        }
      ],
      "source": [
        "print(\"hello world\")"
      ]
    },
    {
      "cell_type": "markdown",
      "source": [
        "2nd program :-ADDITION OF TWO NUMBERS"
      ],
      "metadata": {
        "id": "0IkTNao9m4xb"
      }
    },
    {
      "cell_type": "code",
      "source": [
        "\n",
        "# addition of two numbers\n",
        "#with predefined variables\n",
        "num1= 3\n",
        "num2= 4\n",
        "sum= num1+num2\n",
        "print(\"with predefined variables ,the sum is \",sum)\n",
        "\n",
        "\n"
      ],
      "metadata": {
        "colab": {
          "base_uri": "https://localhost:8080/"
        },
        "id": "Jlpp-iEAZZtM",
        "outputId": "b3f4d973-c6e4-46db-f950-9e972dce48c3"
      },
      "execution_count": null,
      "outputs": [
        {
          "output_type": "stream",
          "name": "stdout",
          "text": [
            "with predefined variables ,the sum is  7\n"
          ]
        }
      ]
    },
    {
      "cell_type": "code",
      "source": [
        "#with non-defined variables\n",
        "num1=int(input(\"Enter the first number: \"))\n",
        "num2=int(input(\"Enter the second number: \"))\n",
        "sum=num1+num2\n",
        "print(\"with non defined variables, the sum is:\",sum)"
      ],
      "metadata": {
        "id": "6fh5c8dtbBjF",
        "colab": {
          "base_uri": "https://localhost:8080/"
        },
        "outputId": "c0abc0e5-09b1-4296-e54e-b4629e3a3ea8"
      },
      "execution_count": 12,
      "outputs": [
        {
          "output_type": "stream",
          "name": "stdout",
          "text": [
            "Enter the first number: 54\n",
            "Enter the second number: 69\n",
            "with non defined variables, the sum is: 123\n"
          ]
        }
      ]
    },
    {
      "cell_type": "markdown",
      "source": [
        "3rd program :-MAXIMUM OF TWOO NUMBERS"
      ],
      "metadata": {
        "id": "puoQCa8pnKXQ"
      }
    },
    {
      "cell_type": "code",
      "source": [
        "#maximum of two numbers\n",
        "num1=int(input(\"enter the first number\"))\n",
        "num2=int(input(\"enter the second number\"))\n",
        "if num1>num2:\n",
        "  print(num1,\"is graeter than 1st number\")\n",
        "else:\n",
        "  print(num2,\"is greater than 1st number\")"
      ],
      "metadata": {
        "colab": {
          "base_uri": "https://localhost:8080/"
        },
        "id": "PicwMTiFlJ7J",
        "outputId": "d8158ade-5f1b-4d00-e482-08be81ba98f3"
      },
      "execution_count": 14,
      "outputs": [
        {
          "output_type": "stream",
          "name": "stdout",
          "text": [
            "enter the first number54\n",
            "enter the second number69\n",
            "69 is greater than 1st number\n"
          ]
        }
      ]
    },
    {
      "cell_type": "markdown",
      "source": [
        "4th program :-FACTORIAL OF NUMBER"
      ],
      "metadata": {
        "id": "swpqt-UhnNl_"
      }
    },
    {
      "cell_type": "code",
      "source": [
        "#factorial of number\n",
        "#1st approach:-IMPORTING math.factorial() library\n",
        "import math\n",
        "num=int(input(\"enter the number\"))\n",
        "print(\"factorial of\",num,\"is\",math.factorial(num))\n"
      ],
      "metadata": {
        "colab": {
          "base_uri": "https://localhost:8080/"
        },
        "id": "z1GDXm7YmD4H",
        "outputId": "11c75bb2-4fda-45fd-cc3b-b70f5643098d"
      },
      "execution_count": 15,
      "outputs": [
        {
          "output_type": "stream",
          "name": "stdout",
          "text": [
            "enter the number5\n",
            "factorial of 5 is 120\n"
          ]
        }
      ]
    }
  ]
}