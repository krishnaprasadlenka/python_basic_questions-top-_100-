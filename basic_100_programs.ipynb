{
  "nbformat": 4,
  "nbformat_minor": 0,
  "metadata": {
    "colab": {
      "provenance": [],
      "authorship_tag": "ABX9TyMGQAZQ1LQmLFRLwl8W1AyT",
      "include_colab_link": true
    },
    "kernelspec": {
      "name": "python3",
      "display_name": "Python 3"
    },
    "language_info": {
      "name": "python"
    }
  },
  "cells": [
    {
      "cell_type": "markdown",
      "metadata": {
        "id": "view-in-github",
        "colab_type": "text"
      },
      "source": [
        "<a href=\"https://colab.research.google.com/github/krishnaprasadlenka/python_basic_questions-top-_100-/blob/main/basic_100_programs.ipynb\" target=\"_parent\"><img src=\"https://colab.research.google.com/assets/colab-badge.svg\" alt=\"Open In Colab\"/></a>"
      ]
    },
    {
      "cell_type": "code",
      "execution_count": 1,
      "metadata": {
        "colab": {
          "base_uri": "https://localhost:8080/"
        },
        "id": "l9K0a5mQZR2h",
        "outputId": "79d33715-77ad-48a1-ee50-c473592fb079"
      },
      "outputs": [
        {
          "output_type": "stream",
          "name": "stdout",
          "text": [
            "hello world\n"
          ]
        }
      ],
      "source": [
        "print(\"hello world\")"
      ]
    },
    {
      "cell_type": "code",
      "source": [
        "\n",
        "# addition of two numbers\n",
        "#with predefined variables\n",
        "num1= 3\n",
        "num2= 4\n",
        "sum= num1+num2\n",
        "print(\"with predefined variables ,the sum is \",sum)\n",
        "\n",
        "\n"
      ],
      "metadata": {
        "colab": {
          "base_uri": "https://localhost:8080/"
        },
        "id": "Jlpp-iEAZZtM",
        "outputId": "b3f4d973-c6e4-46db-f950-9e972dce48c3"
      },
      "execution_count": 8,
      "outputs": [
        {
          "output_type": "stream",
          "name": "stdout",
          "text": [
            "with predefined variables ,the sum is  7\n"
          ]
        }
      ]
    },
    {
      "cell_type": "code",
      "source": [
        "#with non-defined variables\n",
        "num1=int(input(\"enter the first number\"))\n",
        "num2=int(input(\"enter the second number\"))\n",
        "sum=num1+num2\n",
        "print(\"with non defined variables,the sum is\",sum)"
      ],
      "metadata": {
        "id": "6fh5c8dtbBjF"
      },
      "execution_count": null,
      "outputs": []
    }
  ]
}