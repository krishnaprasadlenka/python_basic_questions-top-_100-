{
  "nbformat": 4,
  "nbformat_minor": 0,
  "metadata": {
    "colab": {
      "provenance": [],
      "authorship_tag": "ABX9TyO54F5iD7VC3lONnI2eX7Yg",
      "include_colab_link": true
    },
    "kernelspec": {
      "name": "python3",
      "display_name": "Python 3"
    },
    "language_info": {
      "name": "python"
    }
  },
  "cells": [
    {
      "cell_type": "markdown",
      "metadata": {
        "id": "view-in-github",
        "colab_type": "text"
      },
      "source": [
        "<a href=\"https://colab.research.google.com/github/krishnaprasadlenka/python_basic_questions-top-_100-/blob/main/basic_100_programs.ipynb\" target=\"_parent\"><img src=\"https://colab.research.google.com/assets/colab-badge.svg\" alt=\"Open In Colab\"/></a>"
      ]
    },
    {
      "cell_type": "markdown",
      "source": [
        "1st program:-PRINT \"HELLO WORLD\""
      ],
      "metadata": {
        "id": "-ivzjNRFm05I"
      }
    },
    {
      "cell_type": "code",
      "execution_count": null,
      "metadata": {
        "colab": {
          "base_uri": "https://localhost:8080/"
        },
        "id": "l9K0a5mQZR2h",
        "outputId": "79d33715-77ad-48a1-ee50-c473592fb079"
      },
      "outputs": [
        {
          "output_type": "stream",
          "name": "stdout",
          "text": [
            "hello world\n"
          ]
        }
      ],
      "source": [
        "print(\"hello world\")"
      ]
    },
    {
      "cell_type": "markdown",
      "source": [
        "2nd program :-ADDITION OF TWO NUMBERS"
      ],
      "metadata": {
        "id": "0IkTNao9m4xb"
      }
    },
    {
      "cell_type": "code",
      "source": [
        "\n",
        "# addition of two numbers\n",
        "#with predefined variables\n",
        "num1= 3\n",
        "num2= 4\n",
        "sum= num1+num2\n",
        "print(\"with predefined variables ,the sum is \",sum)\n",
        "\n",
        "\n"
      ],
      "metadata": {
        "colab": {
          "base_uri": "https://localhost:8080/"
        },
        "id": "Jlpp-iEAZZtM",
        "outputId": "b3f4d973-c6e4-46db-f950-9e972dce48c3"
      },
      "execution_count": null,
      "outputs": [
        {
          "output_type": "stream",
          "name": "stdout",
          "text": [
            "with predefined variables ,the sum is  7\n"
          ]
        }
      ]
    },
    {
      "cell_type": "code",
      "source": [
        "#with non-defined variables\n",
        "num1=int(input(\"Enter the first number: \"))\n",
        "num2=int(input(\"Enter the second number: \"))\n",
        "sum=num1+num2\n",
        "print(\"with non defined variables, the sum is:\",sum)"
      ],
      "metadata": {
        "id": "6fh5c8dtbBjF",
        "colab": {
          "base_uri": "https://localhost:8080/"
        },
        "outputId": "c0abc0e5-09b1-4296-e54e-b4629e3a3ea8"
      },
      "execution_count": null,
      "outputs": [
        {
          "output_type": "stream",
          "name": "stdout",
          "text": [
            "Enter the first number: 54\n",
            "Enter the second number: 69\n",
            "with non defined variables, the sum is: 123\n"
          ]
        }
      ]
    },
    {
      "cell_type": "markdown",
      "source": [
        "3rd program :-MAXIMUM OF TWOO NUMBERS"
      ],
      "metadata": {
        "id": "puoQCa8pnKXQ"
      }
    },
    {
      "cell_type": "code",
      "source": [
        "#maximum of two numbers\n",
        "num1=int(input(\"enter the first number\"))\n",
        "num2=int(input(\"enter the second number\"))\n",
        "if num1>num2:\n",
        "  print(num1,\"is graeter than 1st number\")\n",
        "else:\n",
        "  print(num2,\"is greater than 1st number\")"
      ],
      "metadata": {
        "colab": {
          "base_uri": "https://localhost:8080/"
        },
        "id": "PicwMTiFlJ7J",
        "outputId": "d8158ade-5f1b-4d00-e482-08be81ba98f3"
      },
      "execution_count": null,
      "outputs": [
        {
          "output_type": "stream",
          "name": "stdout",
          "text": [
            "enter the first number54\n",
            "enter the second number69\n",
            "69 is greater than 1st number\n"
          ]
        }
      ]
    },
    {
      "cell_type": "markdown",
      "source": [
        "4th program :-FACTORIAL OF NUMBER"
      ],
      "metadata": {
        "id": "swpqt-UhnNl_"
      }
    },
    {
      "cell_type": "code",
      "source": [
        "#factorial of number\n",
        "#1st approach:-IMPORTING math.factorial() library\n",
        "import math\n",
        "num=int(input(\"enter the number\"))\n",
        "print(\"factorial of\",num,\"is\",math.factorial(num))\n",
        "\n"
      ],
      "metadata": {
        "colab": {
          "base_uri": "https://localhost:8080/"
        },
        "id": "z1GDXm7YmD4H",
        "outputId": "bc973f52-2afb-4105-ead3-cfa4a8940b3c"
      },
      "execution_count": 7,
      "outputs": [
        {
          "output_type": "stream",
          "name": "stdout",
          "text": [
            "enter the number5\n",
            "factorial of 5 is 120\n"
          ]
        }
      ]
    },
    {
      "cell_type": "code",
      "source": [
        "\n",
        "# 2nd approach: using recursive approach\n",
        "def factorial(n):\n",
        "    if (n == 1 or n == 0):\n",
        "        return 1\n",
        "    else:\n",
        "        return n * factorial(n - 1)\n",
        "\n",
        "# Get input from the user\n",
        "num = int(input(\"Enter a number: \"))\n",
        "\n",
        "# Calculate and print the factorial\n",
        "print(\"Factorial of\", num, \"is\", factorial(num))\n",
        "\n",
        "#logic behind is The recursive factorial function calculates the factorial of a number n. It defines a base case where if n is 0 or 1, it returns 1. Otherwise, it recursively calls itself with n-1 and multiplies the result by n, effectively breaking down the factorial calculation into smaller subproblems until it reaches the base case.\n",
        ""
      ],
      "metadata": {
        "colab": {
          "base_uri": "https://localhost:8080/"
        },
        "id": "44oKY2BMwSte",
        "outputId": "3e55c8e3-85b7-4654-f34e-2ca9bf3ef209"
      },
      "execution_count": 13,
      "outputs": [
        {
          "output_type": "stream",
          "name": "stdout",
          "text": [
            "Enter a number: 8\n",
            "Factorial of 8 is 40320\n"
          ]
        }
      ]
    },
    {
      "cell_type": "markdown",
      "source": [
        "5th program:-python program for simple interest"
      ],
      "metadata": {
        "id": "-wBvwOjqy0pm"
      }
    },
    {
      "cell_type": "code",
      "source": [
        "#simple interest =(P*T*R)/100\n",
        "p=float(input(\"enter the value of p\"));\n",
        "r=float(input(\"enter the value of r\"));\n",
        "t=float(input(\"enter the value of t\"));\n",
        "print(p*r*t/100)\n"
      ],
      "metadata": {
        "colab": {
          "base_uri": "https://localhost:8080/"
        },
        "id": "Nyz4ixJiy_UY",
        "outputId": "28bd98b8-abbd-49c5-f170-06c06074172a"
      },
      "execution_count": 15,
      "outputs": [
        {
          "output_type": "stream",
          "name": "stdout",
          "text": [
            "enter the value of p5\n",
            "enter the value of r7\n",
            "enter the value of t9\n",
            "3.15\n"
          ]
        }
      ]
    },
    {
      "cell_type": "code",
      "source": [
        "#second approach\n",
        "#using function\n",
        "def simple_interest(p,t,r):\n",
        "  print((p*t*r)/100)\n",
        "p=float(input(\"enter the value of p\"));\n",
        "t=float(input(\"enter the value of t\"));\n",
        "r=float(input(\"enter the value of r\"));\n",
        "print(simple_interest(p,t,r))"
      ],
      "metadata": {
        "colab": {
          "base_uri": "https://localhost:8080/"
        },
        "id": "AsPqkj6o0qFm",
        "outputId": "dedc3705-fbac-44ee-d667-5fdf589653c4"
      },
      "execution_count": 16,
      "outputs": [
        {
          "output_type": "stream",
          "name": "stdout",
          "text": [
            "enter the value of p6\n",
            "enter the value of t8\n",
            "enter the value of r5\n",
            "2.4\n",
            "None\n"
          ]
        }
      ]
    },
    {
      "cell_type": "markdown",
      "source": [
        "PROGRAM 6:-FINDING THE COMPOUND INTEREST\n",
        "FORMULA USED :- The formula for compound interest is:\n",
        "A = P(1 + R/N)^Nt\n",
        "\n",
        "\n",
        "A\t=\tfinal amount\n",
        "P\t=\tinitial principal balance\n",
        "r\t=\tinterest rate\n",
        "n\t=\tnumber of times interest applied per time period\n",
        "t\t=\tnumber of time periods elapsed\n",
        "\n"
      ],
      "metadata": {
        "id": "qK7T1PMz10Ib"
      }
    },
    {
      "cell_type": "code",
      "source": [
        "import math\n",
        "def compound_interest(principal, rate, n, time):\n",
        "  rate_decimal = rate / 100\n",
        "  amount = principal * (1 + (rate_decimal / n))**(n * time)\n",
        "  return amount\n",
        "principal = float(input(\"Enter the principal amount (P): \"))\n",
        "rate = float(input(\"Enter the annual interest rate (R in %): \"))\n",
        "n = int(input(\"Enter the number of times interest is compounded per year (N): \"))\n",
        "time = float(input(\"Enter the number of years (t or T): \"))\n",
        "future_value = compound_interest(principal, rate, n, time)\n",
        "print(\"The future value (A) is:\", future_value)"
      ],
      "metadata": {
        "colab": {
          "base_uri": "https://localhost:8080/"
        },
        "id": "uATKABT_2sho",
        "outputId": "cb6ff5d3-2c28-4d38-e9c5-9906cced3f0e"
      },
      "execution_count": 17,
      "outputs": [
        {
          "output_type": "stream",
          "name": "stdout",
          "text": [
            "Enter the principal amount (P): 8\n",
            "Enter the annual interest rate (R in %): 6\n",
            "Enter the number of times interest is compounded per year (N): 9\n",
            "Enter the number of years (t or T): 5\n",
            "The future value (A) is: 10.788124696434059\n"
          ]
        }
      ]
    }
  ]
}